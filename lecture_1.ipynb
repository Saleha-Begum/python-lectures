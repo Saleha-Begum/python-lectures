{
 "cells": [
  {
   "cell_type": "code",
   "execution_count": 1,
   "id": "6cac5257",
   "metadata": {},
   "outputs": [
    {
     "name": "stdout",
     "output_type": "stream",
     "text": [
      "3.9.18 (main, Sep 11 2023, 13:30:38) [MSC v.1916 64 bit (AMD64)]\n"
     ]
    }
   ],
   "source": [
    "import sys\n",
    "print(sys.version)"
   ]
  },
  {
   "cell_type": "code",
   "execution_count": 2,
   "id": "5e328c64",
   "metadata": {},
   "outputs": [
    {
     "name": "stdout",
     "output_type": "stream",
     "text": [
      "\n",
      "Here is a list of the Python keywords.  Enter any keyword to get more help.\n",
      "\n",
      "False               break               for                 not\n",
      "None                class               from                or\n",
      "True                continue            global              pass\n",
      "__peg_parser__      def                 if                  raise\n",
      "and                 del                 import              return\n",
      "as                  elif                in                  try\n",
      "assert              else                is                  while\n",
      "async               except              lambda              with\n",
      "await               finally             nonlocal            yield\n",
      "\n"
     ]
    }
   ],
   "source": [
    "help(\"keywords\")"
   ]
  },
  {
   "cell_type": "code",
   "execution_count": null,
   "id": "862088c6",
   "metadata": {},
   "outputs": [],
   "source": [
    "# pip install _____"
   ]
  },
  {
   "cell_type": "markdown",
   "id": "799a90f8",
   "metadata": {},
   "source": [
    "# Numeric Types (int, float, complex)"
   ]
  },
  {
   "cell_type": "code",
   "execution_count": 3,
   "id": "70ba8192",
   "metadata": {},
   "outputs": [],
   "source": [
    "x = 5       # int\n",
    "y = 5.0     # float\n",
    "z = 3 + 5j  # complex"
   ]
  },
  {
   "cell_type": "markdown",
   "id": "dd432ff4",
   "metadata": {},
   "source": [
    "# Text Type (str) "
   ]
  },
  {
   "cell_type": "code",
   "execution_count": 3,
   "id": "8448461b",
   "metadata": {},
   "outputs": [
    {
     "name": "stdout",
     "output_type": "stream",
     "text": [
      "Hello, World!\n"
     ]
    }
   ],
   "source": [
    "x = \"Hello, World!\"\n",
    "y = \"67.6\"\n",
    "print(x)"
   ]
  },
  {
   "cell_type": "code",
   "execution_count": 4,
   "id": "e8131d3b",
   "metadata": {},
   "outputs": [
    {
     "data": {
      "text/plain": [
       "'67.6'"
      ]
     },
     "execution_count": 4,
     "metadata": {},
     "output_type": "execute_result"
    }
   ],
   "source": [
    "y"
   ]
  },
  {
   "cell_type": "code",
   "execution_count": 5,
   "id": "d4e1592e",
   "metadata": {},
   "outputs": [
    {
     "data": {
      "text/plain": [
       "str"
      ]
     },
     "execution_count": 5,
     "metadata": {},
     "output_type": "execute_result"
    }
   ],
   "source": [
    "type(y)"
   ]
  },
  {
   "cell_type": "code",
   "execution_count": 1,
   "id": "d6a567f3",
   "metadata": {},
   "outputs": [
    {
     "name": "stdout",
     "output_type": "stream",
     "text": [
      "Hello world\n"
     ]
    }
   ],
   "source": [
    "# capitalize()\n",
    "string = \"hello world\"\n",
    "print(string.capitalize())  "
   ]
  },
  {
   "cell_type": "code",
   "execution_count": 2,
   "id": "9251907e",
   "metadata": {},
   "outputs": [
    {
     "name": "stdout",
     "output_type": "stream",
     "text": [
      "hello world\n"
     ]
    }
   ],
   "source": [
    "# lower()\n",
    "string = \"Hello World\"\n",
    "print(string.lower())"
   ]
  },
  {
   "cell_type": "code",
   "execution_count": 3,
   "id": "c2075824",
   "metadata": {},
   "outputs": [
    {
     "name": "stdout",
     "output_type": "stream",
     "text": [
      "HELLO WORLD\n"
     ]
    }
   ],
   "source": [
    "# upper()\n",
    "string = \"Hello World\"\n",
    "print(string.upper())"
   ]
  },
  {
   "cell_type": "code",
   "execution_count": 4,
   "id": "ff3e029d",
   "metadata": {},
   "outputs": [
    {
     "name": "stdout",
     "output_type": "stream",
     "text": [
      "Hello Universe\n"
     ]
    }
   ],
   "source": [
    "# replace()\n",
    "string = \"Hello World\"\n",
    "print(string.replace(\"World\", \"Universe\"))"
   ]
  },
  {
   "cell_type": "code",
   "execution_count": 7,
   "id": "bacd0844",
   "metadata": {},
   "outputs": [
    {
     "name": "stdout",
     "output_type": "stream",
     "text": [
      "['Hello', ' World, 23']\n"
     ]
    }
   ],
   "source": [
    "# split()\n",
    "string = \"Hello: World, 23\"\n",
    "print(string.split(\":\"))"
   ]
  },
  {
   "cell_type": "code",
   "execution_count": 6,
   "id": "3ed28d42",
   "metadata": {},
   "outputs": [
    {
     "name": "stdout",
     "output_type": "stream",
     "text": [
      "Hello World\n"
     ]
    }
   ],
   "source": [
    "# strip()\n",
    "string = \"   Hello World   \"\n",
    "print(string.strip())"
   ]
  },
  {
   "cell_type": "code",
   "execution_count": 8,
   "id": "ad4b1aeb",
   "metadata": {},
   "outputs": [
    {
     "name": "stdout",
     "output_type": "stream",
     "text": [
      "John#Peter#Vicky\n"
     ]
    }
   ],
   "source": [
    "# join()\n",
    "myTuple = (\"John\", \"Peter\", \"Vicky\")\n",
    "x = \"#\".join(myTuple)\n",
    "print(x)"
   ]
  },
  {
   "cell_type": "code",
   "execution_count": 10,
   "id": "fd58c2ef",
   "metadata": {},
   "outputs": [
    {
     "data": {
      "text/plain": [
       "'John#Peter#Vicky100 apple'"
      ]
     },
     "execution_count": 10,
     "metadata": {},
     "output_type": "execute_result"
    }
   ],
   "source": [
    "x+'100'+' apple'"
   ]
  },
  {
   "cell_type": "code",
   "execution_count": 12,
   "id": "42a36c32",
   "metadata": {},
   "outputs": [
    {
     "name": "stdout",
     "output_type": "stream",
     "text": [
      "Hello Hello Hello \n"
     ]
    }
   ],
   "source": [
    "# Repeat the string \"Hello\" three times\n",
    "result = \"Hello \" * 3\n",
    "print(result)"
   ]
  },
  {
   "cell_type": "code",
   "execution_count": 11,
   "id": "7c6c717c",
   "metadata": {},
   "outputs": [
    {
     "ename": "TypeError",
     "evalue": "can't multiply sequence by non-int of type 'str'",
     "output_type": "error",
     "traceback": [
      "\u001b[1;31m---------------------------------------------------------------------------\u001b[0m",
      "\u001b[1;31mTypeError\u001b[0m                                 Traceback (most recent call last)",
      "Cell \u001b[1;32mIn[11], line 2\u001b[0m\n\u001b[0;32m      1\u001b[0m \u001b[38;5;66;03m# This will raise a TypeError\u001b[39;00m\n\u001b[1;32m----> 2\u001b[0m result \u001b[38;5;241m=\u001b[39m \u001b[38;5;124;43m\"\u001b[39;49m\u001b[38;5;124;43mHello\u001b[39;49m\u001b[38;5;124;43m\"\u001b[39;49m\u001b[43m \u001b[49m\u001b[38;5;241;43m*\u001b[39;49m\u001b[43m \u001b[49m\u001b[38;5;124;43m\"\u001b[39;49m\u001b[38;5;124;43mWorld\u001b[39;49m\u001b[38;5;124;43m\"\u001b[39;49m\n",
      "\u001b[1;31mTypeError\u001b[0m: can't multiply sequence by non-int of type 'str'"
     ]
    }
   ],
   "source": [
    "# This will raise a TypeError\n",
    "result = \"Hello\" * \"World\""
   ]
  },
  {
   "cell_type": "markdown",
   "id": "64854210",
   "metadata": {},
   "source": [
    "# Sequence Types (list, tuple, range)"
   ]
  },
  {
   "cell_type": "code",
   "execution_count": 13,
   "id": "99daf3af",
   "metadata": {},
   "outputs": [],
   "source": [
    "my_list = [\"apple\", \"banana\", \"cherry\",9,7]  # list\n",
    "my_tuple = (\"apple\", \"banana\", \"cherry\") # tuple\n",
    "my_range = range(6)                     # range(0,1,2,3,4,5)"
   ]
  },
  {
   "cell_type": "code",
   "execution_count": 14,
   "id": "e8d3bdd3",
   "metadata": {},
   "outputs": [
    {
     "data": {
      "text/plain": [
       "['apple', 'banana', 'cherry', 9, 7]"
      ]
     },
     "execution_count": 14,
     "metadata": {},
     "output_type": "execute_result"
    }
   ],
   "source": [
    "my_list"
   ]
  },
  {
   "cell_type": "code",
   "execution_count": 15,
   "id": "1327f423",
   "metadata": {},
   "outputs": [
    {
     "data": {
      "text/plain": [
       "('apple', 'banana', 'cherry')"
      ]
     },
     "execution_count": 15,
     "metadata": {},
     "output_type": "execute_result"
    }
   ],
   "source": [
    "my_tuple"
   ]
  },
  {
   "cell_type": "code",
   "execution_count": 15,
   "id": "5eb83135",
   "metadata": {},
   "outputs": [
    {
     "data": {
      "text/plain": [
       "range(0, 6)"
      ]
     },
     "execution_count": 15,
     "metadata": {},
     "output_type": "execute_result"
    }
   ],
   "source": [
    "my_range"
   ]
  },
  {
   "cell_type": "markdown",
   "id": "53e724fd",
   "metadata": {},
   "source": [
    "# loops"
   ]
  },
  {
   "cell_type": "code",
   "execution_count": 7,
   "id": "fdfa6523",
   "metadata": {},
   "outputs": [
    {
     "name": "stdout",
     "output_type": "stream",
     "text": [
      "1\n",
      "2\n",
      "3\n",
      "4\n",
      "5\n"
     ]
    }
   ],
   "source": [
    "i = 1\n",
    "while i < 6:\n",
    "  print(i)\n",
    "  i += 1"
   ]
  },
  {
   "cell_type": "code",
   "execution_count": 16,
   "id": "dbae02cf",
   "metadata": {},
   "outputs": [
    {
     "name": "stdout",
     "output_type": "stream",
     "text": [
      "0\n",
      "1\n",
      "2\n",
      "3\n",
      "4\n"
     ]
    }
   ],
   "source": [
    "# Example 1: range with one argument (stop)\n",
    "for i in range(5):\n",
    "    print(i)"
   ]
  },
  {
   "cell_type": "code",
   "execution_count": 17,
   "id": "eb0e6768",
   "metadata": {},
   "outputs": [
    {
     "name": "stdout",
     "output_type": "stream",
     "text": [
      "2\n",
      "3\n",
      "4\n",
      "5\n",
      "6\n",
      "7\n"
     ]
    }
   ],
   "source": [
    "# Example 2: range with two arguments (start, stop)\n",
    "for i in range(2, 8):\n",
    "    print(i)"
   ]
  },
  {
   "cell_type": "code",
   "execution_count": 18,
   "id": "3d42585e",
   "metadata": {},
   "outputs": [
    {
     "name": "stdout",
     "output_type": "stream",
     "text": [
      "1\n",
      "3\n",
      "5\n",
      "7\n",
      "9\n"
     ]
    }
   ],
   "source": [
    "# Example 3: range with three arguments (start, stop, step)\n",
    "for i in range(1, 10, 2):\n",
    "    print(i)"
   ]
  },
  {
   "cell_type": "code",
   "execution_count": 16,
   "id": "fe8a5c4f",
   "metadata": {},
   "outputs": [
    {
     "name": "stdout",
     "output_type": "stream",
     "text": [
      "1 \n",
      "2 2 \n",
      "3 3 3 \n",
      "4 4 4 4 \n"
     ]
    }
   ],
   "source": [
    "for i in range(1, 5):\n",
    "    for j in range(i):\n",
    "        print(i, end=' ')\n",
    "    print()"
   ]
  },
  {
   "cell_type": "code",
   "execution_count": 9,
   "id": "6e3a7e33",
   "metadata": {},
   "outputs": [
    {
     "name": "stdout",
     "output_type": "stream",
     "text": [
      "Current Letter : a\n",
      "Current Letter : l\n",
      "Current Letter : h\n",
      "Current Letter : a\n"
     ]
    }
   ],
   "source": [
    "for letter in 'saleha':\n",
    "    if letter == 'e' or letter == 's':\n",
    "        continue\n",
    "    print('Current Letter :', letter)"
   ]
  },
  {
   "cell_type": "code",
   "execution_count": 13,
   "id": "89cae0ce",
   "metadata": {},
   "outputs": [
    {
     "name": "stdout",
     "output_type": "stream",
     "text": [
      "Current Letter : s\n"
     ]
    }
   ],
   "source": [
    "for letter in 'saleha':\n",
    "    if letter == 'e' or letter == 's':\n",
    "        break \n",
    "print('Current Letter :', letter)"
   ]
  },
  {
   "cell_type": "code",
   "execution_count": 14,
   "id": "aeb8f82d",
   "metadata": {},
   "outputs": [
    {
     "name": "stdout",
     "output_type": "stream",
     "text": [
      "Last Letter : a\n"
     ]
    }
   ],
   "source": [
    "for letter in 'saleha':\n",
    "    pass\n",
    "print('Last Letter :', letter)"
   ]
  },
  {
   "cell_type": "code",
   "execution_count": 17,
   "id": "725adc41",
   "metadata": {},
   "outputs": [
    {
     "name": "stdout",
     "output_type": "stream",
     "text": [
      "i eat apple\n",
      "i eat banana\n",
      "i eat cherry\n"
     ]
    }
   ],
   "source": [
    "my_list = [\"apple\", \"banana\", \"cherry\"]  \n",
    "for fruits in my_list:\n",
    "    print('i eat '+fruits)"
   ]
  },
  {
   "cell_type": "markdown",
   "id": "92bea68c",
   "metadata": {},
   "source": [
    "# list methods"
   ]
  },
  {
   "cell_type": "code",
   "execution_count": 16,
   "id": "5a01f2af",
   "metadata": {},
   "outputs": [],
   "source": [
    "# Create a list\n",
    "my_list = [1, 2, 3, 4, 5]"
   ]
  },
  {
   "cell_type": "code",
   "execution_count": 18,
   "id": "386e4493",
   "metadata": {},
   "outputs": [
    {
     "name": "stdout",
     "output_type": "stream",
     "text": [
      "[1, 2, 3, 4, 5, 3, 9]\n"
     ]
    }
   ],
   "source": [
    "# Append an element to the end of the list\n",
    "my_list.append(9)\n",
    "print(my_list)  # Output: [1, 2, 3, 4, 5, 6]"
   ]
  },
  {
   "cell_type": "code",
   "execution_count": 19,
   "id": "42cbbd81",
   "metadata": {},
   "outputs": [
    {
     "name": "stdout",
     "output_type": "stream",
     "text": [
      "[]\n"
     ]
    }
   ],
   "source": [
    "# Remove all elements from the list\n",
    "my_list.clear()\n",
    "print(my_list) "
   ]
  },
  {
   "cell_type": "code",
   "execution_count": 20,
   "id": "b72ae51a",
   "metadata": {},
   "outputs": [
    {
     "name": "stdout",
     "output_type": "stream",
     "text": [
      "[1, 2, 3, 4, 5]\n"
     ]
    }
   ],
   "source": [
    "# Copy the list\n",
    "my_list = [1, 2, 3, 4, 5]\n",
    "new_list = my_list.copy()\n",
    "print(new_list)  "
   ]
  },
  {
   "cell_type": "code",
   "execution_count": 23,
   "id": "b61de776",
   "metadata": {},
   "outputs": [
    {
     "name": "stdout",
     "output_type": "stream",
     "text": [
      "1\n"
     ]
    }
   ],
   "source": [
    "# Count the number of elements with the specified value\n",
    "my_list = [1, 2, 3, 4, 5, 5,7,9,3,3,5]\n",
    "count = my_list.count(9)\n",
    "print(count)  "
   ]
  },
  {
   "cell_type": "code",
   "execution_count": 24,
   "id": "9dd226c2",
   "metadata": {},
   "outputs": [
    {
     "name": "stdout",
     "output_type": "stream",
     "text": [
      "[1, 2, 3, 4, 5, 6]\n"
     ]
    }
   ],
   "source": [
    "# Add the elements of a list (or any iterable), to the end of the current list\n",
    "my_list = [1, 2, 3]\n",
    "new_list = [4, 5, 6]\n",
    "my_list.extend(new_list)\n",
    "print(my_list)"
   ]
  },
  {
   "cell_type": "code",
   "execution_count": 26,
   "id": "fc90cdf7",
   "metadata": {},
   "outputs": [
    {
     "name": "stdout",
     "output_type": "stream",
     "text": [
      "4\n"
     ]
    }
   ],
   "source": [
    "# Returns the index of the first element with the specified value\n",
    "my_list = [1, 2, 3, 4, 5,3]\n",
    "index = my_list.index(5)\n",
    "print(index)"
   ]
  },
  {
   "cell_type": "code",
   "execution_count": 28,
   "id": "c4e2dee3",
   "metadata": {},
   "outputs": [
    {
     "data": {
      "text/plain": [
       "5"
      ]
     },
     "execution_count": 28,
     "metadata": {},
     "output_type": "execute_result"
    }
   ],
   "source": [
    "my_list[4]"
   ]
  },
  {
   "cell_type": "code",
   "execution_count": 29,
   "id": "7982c45b",
   "metadata": {},
   "outputs": [
    {
     "name": "stdout",
     "output_type": "stream",
     "text": [
      "[1, 2, 3, 6, 4, 5]\n"
     ]
    }
   ],
   "source": [
    "# Adds an element at the specified position\n",
    "my_list = [1, 2, 3, 4, 5]\n",
    "my_list.insert(3, 6)\n",
    "print(my_list)"
   ]
  },
  {
   "cell_type": "code",
   "execution_count": 30,
   "id": "13f14a4a",
   "metadata": {},
   "outputs": [
    {
     "name": "stdout",
     "output_type": "stream",
     "text": [
      "[1, 2, 4, 5]\n"
     ]
    }
   ],
   "source": [
    "# Removes the element at the specified position\n",
    "my_list = [1, 2, 3, 4, 5]\n",
    "my_list.pop(2)\n",
    "print(my_list) "
   ]
  },
  {
   "cell_type": "code",
   "execution_count": 31,
   "id": "d3976170",
   "metadata": {},
   "outputs": [
    {
     "name": "stdout",
     "output_type": "stream",
     "text": [
      "[1, 2, 4, 3, 5]\n"
     ]
    }
   ],
   "source": [
    "# Removes the item with the specified value\n",
    "my_list = [1, 2, 3, 4,3, 5]\n",
    "my_list.remove(3)\n",
    "print(my_list)"
   ]
  },
  {
   "cell_type": "code",
   "execution_count": 33,
   "id": "edef1328",
   "metadata": {},
   "outputs": [
    {
     "name": "stdout",
     "output_type": "stream",
     "text": [
      "[5, 4, 3, 2, 1]\n"
     ]
    }
   ],
   "source": [
    "# Reverses the order of the list\n",
    "my_list = [1, 2, 3, 4, 5]\n",
    "my_list.reverse()\n",
    "print(my_list)"
   ]
  },
  {
   "cell_type": "code",
   "execution_count": 34,
   "id": "63592e8b",
   "metadata": {},
   "outputs": [
    {
     "name": "stdout",
     "output_type": "stream",
     "text": [
      "[1, 1, 2, 3, 4, 5, 5, 6, 9]\n"
     ]
    }
   ],
   "source": [
    "# Sorts the list\n",
    "my_list = [3, 1, 4, 1, 5, 9, 2, 6, 5]\n",
    "my_list.sort()\n",
    "print(my_list)"
   ]
  },
  {
   "cell_type": "code",
   "execution_count": 35,
   "id": "ad3a7109",
   "metadata": {},
   "outputs": [
    {
     "data": {
      "text/plain": [
       "[9, 6, 5, 5, 4, 3, 2, 1, 1]"
      ]
     },
     "execution_count": 35,
     "metadata": {},
     "output_type": "execute_result"
    }
   ],
   "source": [
    "my_list.reverse()\n",
    "my_list"
   ]
  },
  {
   "cell_type": "code",
   "execution_count": 36,
   "id": "c3274681",
   "metadata": {},
   "outputs": [
    {
     "data": {
      "text/plain": [
       "[6, 5, 5, 4]"
      ]
     },
     "execution_count": 36,
     "metadata": {},
     "output_type": "execute_result"
    }
   ],
   "source": [
    "my_list[1:5] #index 5 is not included"
   ]
  },
  {
   "cell_type": "code",
   "execution_count": 40,
   "id": "16548e09",
   "metadata": {},
   "outputs": [
    {
     "data": {
      "text/plain": [
       "[2, 1, 1]"
      ]
     },
     "execution_count": 40,
     "metadata": {},
     "output_type": "execute_result"
    }
   ],
   "source": [
    "my_list[-3:]"
   ]
  },
  {
   "cell_type": "code",
   "execution_count": 38,
   "id": "7d0457ba",
   "metadata": {},
   "outputs": [
    {
     "data": {
      "text/plain": [
       "[9, 6, 5, 5, 4, 3, 2, 1, 1]"
      ]
     },
     "execution_count": 38,
     "metadata": {},
     "output_type": "execute_result"
    }
   ],
   "source": [
    "my_list[:]"
   ]
  },
  {
   "cell_type": "code",
   "execution_count": 39,
   "id": "142576d4",
   "metadata": {},
   "outputs": [
    {
     "data": {
      "text/plain": [
       "[4, 3, 2, 1, 1]"
      ]
     },
     "execution_count": 39,
     "metadata": {},
     "output_type": "execute_result"
    }
   ],
   "source": [
    "my_list[-5:]"
   ]
  },
  {
   "cell_type": "code",
   "execution_count": 16,
   "id": "939c8af0",
   "metadata": {},
   "outputs": [
    {
     "data": {
      "text/plain": [
       "9"
      ]
     },
     "execution_count": 16,
     "metadata": {},
     "output_type": "execute_result"
    }
   ],
   "source": [
    "len(my_list)"
   ]
  },
  {
   "cell_type": "code",
   "execution_count": 17,
   "id": "21b97004",
   "metadata": {},
   "outputs": [
    {
     "data": {
      "text/plain": [
       "1"
      ]
     },
     "execution_count": 17,
     "metadata": {},
     "output_type": "execute_result"
    }
   ],
   "source": [
    "min(my_list)"
   ]
  },
  {
   "cell_type": "code",
   "execution_count": 18,
   "id": "d30a2ae8",
   "metadata": {},
   "outputs": [
    {
     "data": {
      "text/plain": [
       "9"
      ]
     },
     "execution_count": 18,
     "metadata": {},
     "output_type": "execute_result"
    }
   ],
   "source": [
    "max(my_list)"
   ]
  },
  {
   "cell_type": "code",
   "execution_count": 42,
   "id": "5e812bfb",
   "metadata": {},
   "outputs": [],
   "source": [
    "z=[(2,3),('apple','banana'),(10,'cherry',99)]"
   ]
  },
  {
   "cell_type": "code",
   "execution_count": 43,
   "id": "e7c549ed",
   "metadata": {},
   "outputs": [
    {
     "data": {
      "text/plain": [
       "'cherry'"
      ]
     },
     "execution_count": 43,
     "metadata": {},
     "output_type": "execute_result"
    }
   ],
   "source": [
    "z[2][1]"
   ]
  },
  {
   "cell_type": "code",
   "execution_count": 20,
   "id": "ca39a006",
   "metadata": {},
   "outputs": [
    {
     "ename": "TypeError",
     "evalue": "'<' not supported between instances of 'str' and 'int'",
     "output_type": "error",
     "traceback": [
      "\u001b[1;31m---------------------------------------------------------------------------\u001b[0m",
      "\u001b[1;31mTypeError\u001b[0m                                 Traceback (most recent call last)",
      "Cell \u001b[1;32mIn[20], line 1\u001b[0m\n\u001b[1;32m----> 1\u001b[0m \u001b[38;5;28;43mmin\u001b[39;49m\u001b[43m(\u001b[49m\u001b[43mz\u001b[49m\u001b[43m)\u001b[49m\n",
      "\u001b[1;31mTypeError\u001b[0m: '<' not supported between instances of 'str' and 'int'"
     ]
    }
   ],
   "source": [
    "min(z)"
   ]
  },
  {
   "cell_type": "markdown",
   "id": "3e9a7481",
   "metadata": {},
   "source": [
    "# methods for tuple"
   ]
  },
  {
   "cell_type": "code",
   "execution_count": 45,
   "id": "89430414",
   "metadata": {},
   "outputs": [
    {
     "name": "stdout",
     "output_type": "stream",
     "text": [
      "2\n"
     ]
    }
   ],
   "source": [
    "t = (1, 2, 3, 4, 5, 6, 7, 8, 9, 10, 1, 2, 3, 1)\n",
    "print(t.count(3))  "
   ]
  },
  {
   "cell_type": "code",
   "execution_count": 46,
   "id": "b32e7cb4",
   "metadata": {},
   "outputs": [
    {
     "name": "stdout",
     "output_type": "stream",
     "text": [
      "4\n"
     ]
    }
   ],
   "source": [
    "t = (1, 2, 3, 4, 5, 6, 7, 8,5, 9, 10, 1, 2, 3, 1)\n",
    "print(t.index(5))"
   ]
  },
  {
   "cell_type": "code",
   "execution_count": 4,
   "id": "8f9cc75a",
   "metadata": {},
   "outputs": [
    {
     "name": "stdout",
     "output_type": "stream",
     "text": [
      "[1, 2, 3, 4, 5]\n"
     ]
    }
   ],
   "source": [
    "t = (5, 3, 1, 4, 2)\n",
    "print(sorted(t))"
   ]
  },
  {
   "cell_type": "code",
   "execution_count": 5,
   "id": "29d8a01e",
   "metadata": {},
   "outputs": [
    {
     "name": "stdout",
     "output_type": "stream",
     "text": [
      "10\n"
     ]
    }
   ],
   "source": [
    "t = (1, 2, 3, 4, 5, 6, 7, 8, 9, 10)\n",
    "print(len(t))"
   ]
  },
  {
   "cell_type": "code",
   "execution_count": 1,
   "id": "49bffb27",
   "metadata": {},
   "outputs": [
    {
     "name": "stdout",
     "output_type": "stream",
     "text": [
      "10\n",
      "1\n"
     ]
    }
   ],
   "source": [
    "t = (1, 2, 3, 4, 5, 6, 7, 8, 9, 10)\n",
    "print(max(t))  \n",
    "print(min(t)) "
   ]
  },
  {
   "cell_type": "code",
   "execution_count": 2,
   "id": "ab255f84",
   "metadata": {},
   "outputs": [
    {
     "data": {
      "text/plain": [
       "1"
      ]
     },
     "execution_count": 2,
     "metadata": {},
     "output_type": "execute_result"
    }
   ],
   "source": [
    "t[0]"
   ]
  },
  {
   "cell_type": "markdown",
   "id": "cd3a71ca",
   "metadata": {},
   "source": [
    "# Mapping Type \n",
    "dictionary- a collection of key-value pairs"
   ]
  },
  {
   "cell_type": "code",
   "execution_count": 47,
   "id": "b4fa8f67",
   "metadata": {},
   "outputs": [],
   "source": [
    "my_dict = {\"name\": \"John\", \"age\": 36}  # dict"
   ]
  },
  {
   "cell_type": "code",
   "execution_count": 48,
   "id": "577f1ff2",
   "metadata": {},
   "outputs": [
    {
     "name": "stdout",
     "output_type": "stream",
     "text": [
      "1\n",
      "0\n"
     ]
    }
   ],
   "source": [
    "my_dict = {\"apple\": 1, \"banana\": 2, \"cherry\": 3}\n",
    "print(my_dict.get(\"apple\", 0))  \n",
    "print(my_dict.get(\"orange\", 0))  "
   ]
  },
  {
   "cell_type": "code",
   "execution_count": 19,
   "id": "9754fedf",
   "metadata": {},
   "outputs": [
    {
     "name": "stdout",
     "output_type": "stream",
     "text": [
      "dict_items([('apple', 1), ('banana', 2), ('cherry', 3)])\n"
     ]
    }
   ],
   "source": [
    "my_dict = {\"apple\": 1, \"banana\": 2, \"cherry\": 3}\n",
    "print(my_dict.items())"
   ]
  },
  {
   "cell_type": "code",
   "execution_count": 49,
   "id": "a6a2e1ec",
   "metadata": {},
   "outputs": [
    {
     "name": "stdout",
     "output_type": "stream",
     "text": [
      "{'apple': 1, 'banana': 2, 'cherry': 3, 'orange': 4}\n"
     ]
    }
   ],
   "source": [
    "my_dict = {\"apple\": 1, \"banana\": 2, \"cherry\": 3}\n",
    "my_dict.update({\"orange\": 4})\n",
    "print(my_dict)"
   ]
  },
  {
   "cell_type": "code",
   "execution_count": 21,
   "id": "28a177ce",
   "metadata": {},
   "outputs": [
    {
     "name": "stdout",
     "output_type": "stream",
     "text": [
      "dict_keys(['apple', 'banana', 'cherry'])\n"
     ]
    }
   ],
   "source": [
    "my_dict = {\"apple\": 1, \"banana\": 2, \"cherry\": 3}\n",
    "print(my_dict.keys())"
   ]
  },
  {
   "cell_type": "code",
   "execution_count": 22,
   "id": "a189032a",
   "metadata": {},
   "outputs": [
    {
     "name": "stdout",
     "output_type": "stream",
     "text": [
      "dict_values([1, 2, 3])\n"
     ]
    }
   ],
   "source": [
    "my_dict = {\"apple\": 1, \"banana\": 2, \"cherry\": 3}\n",
    "print(my_dict.values())"
   ]
  },
  {
   "cell_type": "code",
   "execution_count": 50,
   "id": "ee0d966f",
   "metadata": {},
   "outputs": [
    {
     "name": "stdout",
     "output_type": "stream",
     "text": [
      "The value associated with the popped key is 1.\n"
     ]
    }
   ],
   "source": [
    "my_dict = {\"apple\": 1, \"banana\": 2, \"cherry\": 3}\n",
    "suspended = my_dict.pop(\"apple\")\n",
    "print(f\"The value associated with the popped key is {suspended}.\")"
   ]
  },
  {
   "cell_type": "code",
   "execution_count": 51,
   "id": "17747042",
   "metadata": {},
   "outputs": [
    {
     "name": "stdout",
     "output_type": "stream",
     "text": [
      "The dictionary after calling clear() method is {}.\n"
     ]
    }
   ],
   "source": [
    "my_dict = {\"apple\": 1, \"banana\": 2, \"cherry\": 3}\n",
    "my_dict.clear()\n",
    "print(f\"The dictionary after calling clear() method is {my_dict}.\")"
   ]
  },
  {
   "cell_type": "code",
   "execution_count": 52,
   "id": "7ed4b28c",
   "metadata": {},
   "outputs": [
    {
     "name": "stdout",
     "output_type": "stream",
     "text": [
      "i eat apple\n",
      "i eat banana\n",
      "i eat cherry\n"
     ]
    }
   ],
   "source": [
    "my_list = {\"apple\": 1, \"banana\": 2, \"cherry\": 3}\n",
    "for fruits in my_list:\n",
    "    print('i eat '+fruits)"
   ]
  },
  {
   "cell_type": "code",
   "execution_count": 48,
   "id": "e89ee9c2",
   "metadata": {},
   "outputs": [
    {
     "data": {
      "text/plain": [
       "1"
      ]
     },
     "execution_count": 48,
     "metadata": {},
     "output_type": "execute_result"
    }
   ],
   "source": [
    "my_list[\"apple\"]"
   ]
  },
  {
   "cell_type": "code",
   "execution_count": 53,
   "id": "289f5386",
   "metadata": {},
   "outputs": [],
   "source": [
    "my_dict = {\"key1\": [1,3,6], \"key2\": [3.6,6.8,5]}"
   ]
  },
  {
   "cell_type": "code",
   "execution_count": 55,
   "id": "1e8f9d24",
   "metadata": {},
   "outputs": [
    {
     "data": {
      "text/plain": [
       "[3.6, 6.8, 5]"
      ]
     },
     "execution_count": 55,
     "metadata": {},
     "output_type": "execute_result"
    }
   ],
   "source": [
    "my_dict[\"key2\"]"
   ]
  },
  {
   "cell_type": "code",
   "execution_count": 56,
   "id": "bfbfcc3d",
   "metadata": {},
   "outputs": [
    {
     "data": {
      "text/plain": [
       "6.8"
      ]
     },
     "execution_count": 56,
     "metadata": {},
     "output_type": "execute_result"
    }
   ],
   "source": [
    "my_dict[\"key2\"][1]"
   ]
  },
  {
   "cell_type": "code",
   "execution_count": 10,
   "id": "53aec6e8",
   "metadata": {},
   "outputs": [],
   "source": [
    "my_dict2 = {\"key1\": {\"value1\": 1, \"value2\": 2, \"value3\": 3}, \"key2\": {\"value4\": 4, \"value5\": 5}}"
   ]
  },
  {
   "cell_type": "code",
   "execution_count": 57,
   "id": "ca399808",
   "metadata": {},
   "outputs": [
    {
     "data": {
      "text/plain": [
       "5"
      ]
     },
     "execution_count": 57,
     "metadata": {},
     "output_type": "execute_result"
    }
   ],
   "source": [
    "my_dict2[\"key2\"][\"value5\"]"
   ]
  },
  {
   "cell_type": "code",
   "execution_count": null,
   "id": "0090f900",
   "metadata": {},
   "outputs": [],
   "source": []
  },
  {
   "cell_type": "markdown",
   "id": "aea0f02e",
   "metadata": {},
   "source": [
    "# Set Types \n",
    "(set, frozenset) - Set types represent a set of unique values. set represents a mutable set of values and frozenset represents an immutable set of values."
   ]
  },
  {
   "cell_type": "code",
   "execution_count": 6,
   "id": "f865eeea",
   "metadata": {},
   "outputs": [],
   "source": [
    "my_set = {\"apple\", \"banana\", \"cherry\"}  # set\n",
    "my_frozenset = frozenset({\"apple\", \"banana\", \"cherry\"}) # frozenset"
   ]
  },
  {
   "cell_type": "markdown",
   "id": "3226480d",
   "metadata": {},
   "source": [
    "# Boolean Type \n",
    "bool - A boolean type represents a truth value. It can be either True or False"
   ]
  },
  {
   "cell_type": "code",
   "execution_count": 7,
   "id": "06f1a0f1",
   "metadata": {},
   "outputs": [],
   "source": [
    "x = True\n",
    "y = False"
   ]
  },
  {
   "cell_type": "markdown",
   "id": "bccef5b7",
   "metadata": {},
   "source": [
    "# Binary Types \n",
    "(bytes, bytearray, memoryview) - Binary types represent binary data. bytes represents a sequence of bytes, bytearray represents a mutable sequence of bytes, and memoryview represents a memory view of bytes."
   ]
  },
  {
   "cell_type": "code",
   "execution_count": 38,
   "id": "d903b7ee",
   "metadata": {},
   "outputs": [],
   "source": [
    "my_bytes = b\"Hello\"         # bytes\n",
    "my_bytearray = bytearray(5) # bytearray\n",
    "my_memoryview = memoryview(my_bytearray) # memoryview"
   ]
  },
  {
   "cell_type": "code",
   "execution_count": 40,
   "id": "82210817",
   "metadata": {},
   "outputs": [
    {
     "data": {
      "text/plain": [
       "bytearray(b'\\x00\\x00\\x00\\x00\\x00')"
      ]
     },
     "execution_count": 40,
     "metadata": {},
     "output_type": "execute_result"
    }
   ],
   "source": [
    "my_bytearray"
   ]
  },
  {
   "cell_type": "markdown",
   "id": "81ae9e78",
   "metadata": {},
   "source": [
    "# None Type\n",
    " The None type represents the absence of a value."
   ]
  },
  {
   "cell_type": "code",
   "execution_count": 9,
   "id": "5dcc724a",
   "metadata": {},
   "outputs": [],
   "source": [
    "x = None"
   ]
  },
  {
   "cell_type": "markdown",
   "id": "1476537b",
   "metadata": {},
   "source": [
    "# Type Conversion"
   ]
  },
  {
   "cell_type": "code",
   "execution_count": 58,
   "id": "13ce5e9e",
   "metadata": {},
   "outputs": [],
   "source": [
    "x = 4    # int\n",
    "y = 5.9  # float\n",
    "z = 8+1j   # complex"
   ]
  },
  {
   "cell_type": "code",
   "execution_count": 59,
   "id": "01ab6153",
   "metadata": {},
   "outputs": [],
   "source": [
    "#convert from int to float:\n",
    "a = float(x)"
   ]
  },
  {
   "cell_type": "code",
   "execution_count": 60,
   "id": "2d71028e",
   "metadata": {},
   "outputs": [],
   "source": [
    "#convert from float to int:\n",
    "b = int(y)"
   ]
  },
  {
   "cell_type": "code",
   "execution_count": 61,
   "id": "35c11cbc",
   "metadata": {},
   "outputs": [],
   "source": [
    "#convert from int to complex:\n",
    "c = complex(x)"
   ]
  },
  {
   "cell_type": "code",
   "execution_count": 62,
   "id": "a31d2b12",
   "metadata": {},
   "outputs": [
    {
     "name": "stdout",
     "output_type": "stream",
     "text": [
      "4.0\n",
      "5\n",
      "(4+0j)\n"
     ]
    }
   ],
   "source": [
    "print(a)\n",
    "print(b)\n",
    "print(c)"
   ]
  },
  {
   "cell_type": "code",
   "execution_count": 63,
   "id": "090fbacb",
   "metadata": {},
   "outputs": [
    {
     "name": "stdout",
     "output_type": "stream",
     "text": [
      "<class 'float'>\n",
      "<class 'int'>\n",
      "<class 'complex'>\n"
     ]
    }
   ],
   "source": [
    "print(type(a))\n",
    "print(type(b))\n",
    "print(type(c))"
   ]
  },
  {
   "cell_type": "code",
   "execution_count": 64,
   "id": "dbe6ed60",
   "metadata": {},
   "outputs": [],
   "source": [
    "p = int(2.8)\n",
    "q = float(\"3\") \n",
    "r = str(3.0)"
   ]
  },
  {
   "cell_type": "code",
   "execution_count": 39,
   "id": "76abb667",
   "metadata": {},
   "outputs": [
    {
     "data": {
      "text/plain": [
       "8.06225774829855"
      ]
     },
     "execution_count": 39,
     "metadata": {},
     "output_type": "execute_result"
    }
   ],
   "source": [
    "abs(z)"
   ]
  },
  {
   "cell_type": "code",
   "execution_count": 21,
   "id": "dddd2a10",
   "metadata": {},
   "outputs": [
    {
     "data": {
      "text/plain": [
       "2"
      ]
     },
     "execution_count": 21,
     "metadata": {},
     "output_type": "execute_result"
    }
   ],
   "source": [
    "p"
   ]
  },
  {
   "cell_type": "code",
   "execution_count": 22,
   "id": "8629af14",
   "metadata": {},
   "outputs": [
    {
     "data": {
      "text/plain": [
       "3.0"
      ]
     },
     "execution_count": 22,
     "metadata": {},
     "output_type": "execute_result"
    }
   ],
   "source": [
    "q"
   ]
  },
  {
   "cell_type": "code",
   "execution_count": 23,
   "id": "0ea83089",
   "metadata": {},
   "outputs": [
    {
     "data": {
      "text/plain": [
       "'3.0'"
      ]
     },
     "execution_count": 23,
     "metadata": {},
     "output_type": "execute_result"
    }
   ],
   "source": [
    "r"
   ]
  },
  {
   "cell_type": "markdown",
   "id": "e9882002",
   "metadata": {},
   "source": [
    "# modules"
   ]
  },
  {
   "cell_type": "code",
   "execution_count": 40,
   "id": "3b58ea16",
   "metadata": {},
   "outputs": [
    {
     "name": "stdout",
     "output_type": "stream",
     "text": [
      "\n",
      "Please wait a moment while I gather a list of all available modules...\n",
      "\n",
      "Using TensorFlow backend\n"
     ]
    },
    {
     "name": "stderr",
     "output_type": "stream",
     "text": [
      "C:\\Users\\saleh\\anaconda3\\envs\\newenv\\lib\\pkgutil.py:93: UserWarning: The numpy.array_api submodule is still experimental. See NEP 47.\n",
      "  __import__(info.name)\n",
      "C:\\Users\\saleh\\anaconda3\\envs\\newenv\\lib\\site-packages\\_distutils_hack\\__init__.py:33: UserWarning: Setuptools is replacing distutils.\n",
      "  warnings.warn(\"Setuptools is replacing distutils.\")\n",
      "C:\\Users\\saleh\\anaconda3\\envs\\newenv\\lib\\pkgutil.py:108: VisibleDeprecationWarning:\n",
      "\n",
      "zmq.eventloop.minitornado is deprecated in pyzmq 14.0 and will be removed.\n",
      "    Install tornado itself to use zmq with the tornado IOLoop.\n",
      "    \n",
      "\n"
     ]
    },
    {
     "name": "stdout",
     "output_type": "stream",
     "text": [
      "IPython             click               markdown            socks\n",
      "OpenSSL             click_plugins       markdown_it         sockshandler\n",
      "PIL                 cligj               markupsafe          soupsieve\n",
      "PyQt5               cloudpickle         marshal             sqlite3\n",
      "SALib               cmath               math                sre_compile\n",
      "__future__          cmd                 matplotlib          sre_constants\n",
      "_abc                code                matplotlib_inline   sre_parse\n",
      "_aix_support        codecs              mdurl               ssl\n",
      "_argon2_cffi_bindings codeop              mimetypes           sspi\n",
      "_ast                collections         mistune             sspicon\n",
      "_asyncio            colorama            mkl                 stack_data\n",
      "_bisect             colorsys            mkl_fft             stat\n",
      "_blake2             colour              mmap                statistics\n",
      "_bootlocale         comm                mmapfile            string\n",
      "_bootsubprocess     commctrl            mmsystem            stringprep\n",
      "_brotli             compileall          modulefinder        struct\n",
      "_bz2                concurrent          msilib              subprocess\n",
      "_cffi_backend       configparser        msvcrt              sunau\n",
      "_codecs             contextlib          multidict           symbol\n",
      "_codecs_cn          contextvars         multiprocess        symtable\n",
      "_codecs_hk          contourpy           multiprocessing     sys\n",
      "_codecs_iso2022     copy                munch               sysconfig\n",
      "_codecs_jp          copyreg             munkres             tabnanny\n",
      "_codecs_kr          crypt               namex               tarfile\n",
      "_codecs_tw          cryptography        nbclassic           telnetlib\n",
      "_collections        csv                 nbclient            tempfile\n",
      "_collections_abc    ctypes              nbconvert           tenacity\n",
      "_compat_pickle      curses              nbformat            tensorboard\n",
      "_compression        cycler              nest_asyncio        tensorboard_data_server\n",
      "_contextvars        dataclasses         netbios             tensorboard_plugin_wit\n",
      "_csv                datetime            netrc               tensorflow\n",
      "_ctypes             dateutil            networkx            tensorflow_estimator\n",
      "_ctypes_test        dbi                 nntplib             termcolor\n",
      "_datetime           dbm                 notebook            terminado\n",
      "_decimal            dde                 notebook_shim       test\n",
      "_distutils_hack     debugpy             nt                  textwrap\n",
      "_elementtree        decimal             ntpath              this\n",
      "_functools          decorator           ntsecuritycon       threading\n",
      "_hashlib            defusedxml          nturl2path          threadpoolctl\n",
      "_heapq              difflib             numbers             time\n",
      "_imp                dill                numexpr             timeit\n",
      "_io                 dis                 numpy               timer\n",
      "_json               distutils           oauthlib            tinycss2\n",
      "_locale             doctest             odbc                tkinter\n",
      "_lsprof             dot_parser          opcode              token\n",
      "_lzma               ee                  openpyxl            tokenize\n",
      "_markupbase         eerepr              operator            toml\n",
      "_md5                email               opt_einsum          tornado\n",
      "_msi                encodings           optparse            tqdm\n",
      "_multibytecodec     ensurepip           os                  trace\n",
      "_multiprocess       entrypoints         osgeo               traceback\n",
      "_multiprocessing    enum                osgeo_utils         tracemalloc\n",
      "_opcode             errno               osmnx               traitlets\n",
      "_operator           et_xmlfile          packaging           traittypes\n",
      "_osx_support        exceptiongroup      pandas              tree\n",
      "_overlapped         executing           pandocfilters       tty\n",
      "_peg_parser         fastjsonschema      parser              turtle\n",
      "_pickle             faulthandler        parso               turtledemo\n",
      "_plotly_future_     filecmp             past                types\n",
      "_plotly_utils       fileinput           pasta               typing\n",
      "_py_abc             fiona               pathlib             typing_extensions\n",
      "_pydecimal          flatbuffers         pdb                 tzdata\n",
      "_pyio               fnmatch             perfmon             unicodedata\n",
      "_pyrsistent_version folium              pickle              unittest\n",
      "_queue              fontTools           pickleshare         uritemplate\n",
      "_random             formatter           pickletools         urllib\n",
      "_sha1               fractions           pip                 urllib3\n",
      "_sha256             frozenlist          pipes               uu\n",
      "_sha3               ftplib              pkg_resources       uuid\n",
      "_sha512             functools           pkgutil             venv\n",
      "_signal             future              platform            warnings\n",
      "_sitebuiltins       gast                platformdirs        wave\n",
      "_socket             gc                  plistlib            wcwidth\n",
      "_sqlite3            geemap              plotly              weakref\n",
      "_sre                genericpath         ply                 webbrowser\n",
      "_ssl                geocoder            poplib              webencodings\n",
      "_stat               geopandas           posixpath           websocket\n",
      "_statistics         getopt              pprint              werkzeug\n",
      "_string             getpass             profile             wheel\n",
      "_strptime           gettext             prometheus_client   widgetsnbextension\n",
      "_struct             glob                prompt_toolkit      win2kras\n",
      "_symtable           google_auth_httplib2 pstats              win32api\n",
      "_testbuffer         google_auth_oauthlib psutil              win32clipboard\n",
      "_testcapi           google_crc32c       pty                 win32com\n",
      "_testconsole        googleapiclient     pure_eval           win32con\n",
      "_testimportmultiple graphlib            pvectorc            win32console\n",
      "_testinternalcapi   graphviz            py4j                win32cred\n",
      "_testmultiphase     grpc                py_compile          win32crypt\n",
      "_thread             gzip                pyasn1              win32cryptcon\n",
      "_threading_local    h5py                pyasn1_modules      win32event\n",
      "_tkinter            hashlib             pyclbr              win32evtlog\n",
      "_tracemalloc        heapq               pycparser           win32evtlogutil\n",
      "_uuid               hmac                pydoc               win32file\n",
      "_warnings           html                pydoc_data          win32gui\n",
      "_weakref            http                pydot               win32gui_struct\n",
      "_weakrefset         httplib2            pyexpat             win32help\n",
      "_win32sysloader     hyperopt            pygments            win32inet\n",
      "_winapi             idlelib             pylab               win32inetcon\n",
      "_winxptheme         idna                pyparsing           win32job\n",
      "_xxsubinterpreters  imaplib             pyperclip           win32lz\n",
      "_zoneinfo           imghdr              pyproj              win32net\n",
      "abc                 imp                 pyrsistent          win32netcon\n",
      "absl                importlib           pythoncom           win32pdh\n",
      "adodbapi            importlib_metadata  pytz                win32pdhquery\n",
      "afxres              importlib_resources pywin               win32pdhutil\n",
      "aifc                inspect             pywin32_bootstrap   win32pipe\n",
      "aiohttp             io                  pywin32_testutil    win32print\n",
      "aiosignal           ipaddress           pywintypes          win32process\n",
      "antigravity         ipyevents           queue               win32profile\n",
      "anyio               ipyfilechooser      quopri              win32ras\n",
      "apiclient           ipykernel           random              win32rcparser\n",
      "argon2              ipykernel_launcher  rasutil             win32security\n",
      "argparse            ipyleaflet          ratelim             win32service\n",
      "array               ipython_genutils    re                  win32serviceutil\n",
      "ast                 ipytree             regcheck            win32timezone\n",
      "asttokens           ipywidgets          regutil             win32trace\n",
      "astunparse          isapi               reprlib             win32traceutil\n",
      "async_timeout       itertools           requests            win32transaction\n",
      "asynchat            jedi                requests_oauthlib   win32ts\n",
      "asyncio             jinja2              rich                win32ui\n",
      "asyncore            joblib              rk4                 win32uiole\n",
      "atexit              json                rlcompleter         win32verstamp\n",
      "attr                jsonschema          rsa                 win32wnet\n",
      "attrs               jupyter             rtree               win_inet_pton\n",
      "audioop             jupyter_client      runpy               winerror\n",
      "backcall            jupyter_core        sched               winioctlcon\n",
      "base64              jupyter_server      scipy               winnt\n",
      "bdb                 jupyterlab_plotly   scooby              winperf\n",
      "binascii            jupyterlab_pygments secrets             winpty\n",
      "binhex              jupyterlab_widgets  select              winreg\n",
      "bisect              jwt                 selectors           winsound\n",
      "bleach              keras               send2trash          winxpgui\n",
      "blinker             keras_core          servicemanager      winxptheme\n",
      "bottleneck          keras_preprocessing setuptools          wrapt\n",
      "box                 keras_tuner         shapefile           wsgiref\n",
      "bqplot              kerastuner          shapely             xdrlib\n",
      "branca              keyword             shelve              xml\n",
      "brotli              kiwisolver          shlex               xmlrpc\n",
      "bs4                 legend              shutil              xxsubtype\n",
      "builtins            lib2to3             signal              xyzservices\n",
      "bz2                 libfuturize         sipbuild            yarl\n",
      "cProfile            libpasteurize       site                zipapp\n",
      "cachetools          linecache           six                 zipfile\n",
      "calendar            locale              sklearn             zipimport\n",
      "certifi             logging             smtpd               zipp\n",
      "cffi                lxml                smtplib             zlib\n",
      "cgi                 lzma                sndhdr              zmq\n",
      "cgitb               mailbox             sniffio             zoneinfo\n",
      "charset_normalizer  mailcap             socket              \n",
      "chunk               mapclassify         socketserver        \n",
      "\n",
      "Enter any module name to get more help.  Or, type \"modules spam\" to search\n",
      "for modules whose name or summary contain the string \"spam\".\n",
      "\n"
     ]
    }
   ],
   "source": [
    "help('modules')"
   ]
  },
  {
   "cell_type": "markdown",
   "id": "87606dac",
   "metadata": {},
   "source": [
    "# Random"
   ]
  },
  {
   "cell_type": "code",
   "execution_count": 25,
   "id": "0bfdd599",
   "metadata": {},
   "outputs": [],
   "source": [
    "import random"
   ]
  },
  {
   "cell_type": "code",
   "execution_count": 26,
   "id": "f117eaa4",
   "metadata": {},
   "outputs": [
    {
     "name": "stdout",
     "output_type": "stream",
     "text": [
      "3\n"
     ]
    }
   ],
   "source": [
    "print(random.randrange(1, 10)) #return a random integer between 0 and 9, but not including 10"
   ]
  },
  {
   "cell_type": "code",
   "execution_count": 27,
   "id": "0ba0848b",
   "metadata": {},
   "outputs": [],
   "source": [
    "x = random.randint(0, 9) #Returns a random integer between 0 and 9, inclusive."
   ]
  },
  {
   "cell_type": "code",
   "execution_count": 29,
   "id": "108684af",
   "metadata": {},
   "outputs": [
    {
     "data": {
      "text/plain": [
       "4"
      ]
     },
     "execution_count": 29,
     "metadata": {},
     "output_type": "execute_result"
    }
   ],
   "source": [
    "x"
   ]
  },
  {
   "cell_type": "code",
   "execution_count": 28,
   "id": "0393b034",
   "metadata": {},
   "outputs": [
    {
     "name": "stdout",
     "output_type": "stream",
     "text": [
      "1\n"
     ]
    }
   ],
   "source": [
    "print(random.randrange(1, 10,4))"
   ]
  },
  {
   "cell_type": "markdown",
   "id": "289b6ad5",
   "metadata": {},
   "source": [
    "# Math"
   ]
  },
  {
   "cell_type": "code",
   "execution_count": 29,
   "id": "cb263774",
   "metadata": {},
   "outputs": [
    {
     "name": "stdout",
     "output_type": "stream",
     "text": [
      "4.0\n"
     ]
    }
   ],
   "source": [
    "import math\n",
    "\n",
    "x = math.sqrt(16)\n",
    "print(x)"
   ]
  },
  {
   "cell_type": "code",
   "execution_count": 31,
   "id": "635f1c9b",
   "metadata": {},
   "outputs": [
    {
     "data": {
      "text/plain": [
       "-1.0"
      ]
     },
     "execution_count": 31,
     "metadata": {},
     "output_type": "execute_result"
    }
   ],
   "source": [
    "math.cos(math.pi)"
   ]
  },
  {
   "cell_type": "code",
   "execution_count": 32,
   "id": "56a95293",
   "metadata": {},
   "outputs": [
    {
     "data": {
      "text/plain": [
       "2.718281828459045"
      ]
     },
     "execution_count": 32,
     "metadata": {},
     "output_type": "execute_result"
    }
   ],
   "source": [
    "math.e"
   ]
  },
  {
   "cell_type": "code",
   "execution_count": 34,
   "id": "4ec5f410",
   "metadata": {},
   "outputs": [
    {
     "data": {
      "text/plain": [
       "4"
      ]
     },
     "execution_count": 34,
     "metadata": {},
     "output_type": "execute_result"
    }
   ],
   "source": [
    "math.ceil(3.6)"
   ]
  },
  {
   "cell_type": "code",
   "execution_count": 38,
   "id": "0ad007f1",
   "metadata": {},
   "outputs": [
    {
     "data": {
      "text/plain": [
       "8.6"
      ]
     },
     "execution_count": 38,
     "metadata": {},
     "output_type": "execute_result"
    }
   ],
   "source": [
    "math.fabs(-8.6)"
   ]
  },
  {
   "cell_type": "code",
   "execution_count": 30,
   "id": "6d401edf",
   "metadata": {},
   "outputs": [
    {
     "data": {
      "text/plain": [
       "6"
      ]
     },
     "execution_count": 30,
     "metadata": {},
     "output_type": "execute_result"
    }
   ],
   "source": [
    "math.factorial(3)"
   ]
  },
  {
   "cell_type": "code",
   "execution_count": 31,
   "id": "b0a231e9",
   "metadata": {},
   "outputs": [
    {
     "data": {
      "text/plain": [
       "8.0"
      ]
     },
     "execution_count": 31,
     "metadata": {},
     "output_type": "execute_result"
    }
   ],
   "source": [
    "math.pow(2,3)"
   ]
  },
  {
   "cell_type": "code",
   "execution_count": 32,
   "id": "bb480d6f",
   "metadata": {},
   "outputs": [
    {
     "data": {
      "text/plain": [
       "1.0"
      ]
     },
     "execution_count": 32,
     "metadata": {},
     "output_type": "execute_result"
    }
   ],
   "source": [
    "math.log10(10)"
   ]
  },
  {
   "cell_type": "code",
   "execution_count": 37,
   "id": "42a365d6",
   "metadata": {},
   "outputs": [
    {
     "data": {
      "text/plain": [
       "1.0"
      ]
     },
     "execution_count": 37,
     "metadata": {},
     "output_type": "execute_result"
    }
   ],
   "source": [
    "math.log(math.e)"
   ]
  },
  {
   "cell_type": "code",
   "execution_count": null,
   "id": "6920a87f",
   "metadata": {},
   "outputs": [],
   "source": []
  }
 ],
 "metadata": {
  "kernelspec": {
   "display_name": "Python 3 (ipykernel)",
   "language": "python",
   "name": "python3"
  },
  "language_info": {
   "codemirror_mode": {
    "name": "ipython",
    "version": 3
   },
   "file_extension": ".py",
   "mimetype": "text/x-python",
   "name": "python",
   "nbconvert_exporter": "python",
   "pygments_lexer": "ipython3",
   "version": "3.9.18"
  },
  "varInspector": {
   "cols": {
    "lenName": 16,
    "lenType": 16,
    "lenVar": 40
   },
   "kernels_config": {
    "python": {
     "delete_cmd_postfix": "",
     "delete_cmd_prefix": "del ",
     "library": "var_list.py",
     "varRefreshCmd": "print(var_dic_list())"
    },
    "r": {
     "delete_cmd_postfix": ") ",
     "delete_cmd_prefix": "rm(",
     "library": "var_list.r",
     "varRefreshCmd": "cat(var_dic_list()) "
    }
   },
   "types_to_exclude": [
    "module",
    "function",
    "builtin_function_or_method",
    "instance",
    "_Feature"
   ],
   "window_display": false
  }
 },
 "nbformat": 4,
 "nbformat_minor": 5
}
